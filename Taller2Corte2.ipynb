{
  "nbformat": 4,
  "nbformat_minor": 0,
  "metadata": {
    "colab": {
      "provenance": [],
      "authorship_tag": "ABX9TyNfYVTjNy4urWk1FYEHY0N4",
      "include_colab_link": true
    },
    "kernelspec": {
      "name": "python3",
      "display_name": "Python 3"
    },
    "language_info": {
      "name": "python"
    }
  },
  "cells": [
    {
      "cell_type": "markdown",
      "metadata": {
        "id": "view-in-github",
        "colab_type": "text"
      },
      "source": [
        "<a href=\"https://colab.research.google.com/github/Sopho1997/Computacion-1/blob/main/Taller2Corte2.ipynb\" target=\"_parent\"><img src=\"https://colab.research.google.com/assets/colab-badge.svg\" alt=\"Open In Colab\"/></a>"
      ]
    },
    {
      "cell_type": "code",
      "source": [
        "import datetime\n",
        "\n",
        "\n",
        "class humano:\n",
        "  def __init__(self, nombre, fecha, altura):\n",
        "    if not (0.5 <= altura <= 2.5):\n",
        "      raise Exception(\"No se puede.\")\n",
        "    hoy = datetime.datetime.now()\n",
        "    cumple = datetime.datetime.strptime(fecha, \"%Y-%m-%d\")\n",
        "    if cumple > hoy:\n",
        "      raise Exception(\"No se puede.\")\n",
        "\n",
        "    self.nombre = nombre\n",
        "    self.fecha = fecha\n",
        "    self.altura = altura\n",
        "\n",
        "  def edad(self):\n",
        "    hoy = datetime.datetime.now()\n",
        "    cumple = datetime.datetime.strptime(self.fecha, \"%Y-%m-%d\")\n",
        "    edad = hoy - cumple\n",
        "    return int(edad.days/365)\n",
        "  def mayor(self):\n",
        "    if self.edad() >= 18:\n",
        "      return True\n",
        "    else:\n",
        "      return False\n",
        "\n",
        "  def saludar(self):\n",
        "    print(f\"Hola, mi nombre es {self.nombre} y tengo {self.edad()} años \")\n",
        "\n",
        "  def crecer(self, cm):\n",
        "    if 0 <= cm <= 50:\n",
        "      self.altura += (cm*0.01)\n",
        "    else:\n",
        "      raise Exception(\"No se puede.\")\n",
        "\n",
        "  def cumplehoy(self):\n",
        "    hoy = datetime.datetime.now()\n",
        "    cumple = datetime.datetime.strptime(self.fecha, \"%Y-%m-%d\")\n",
        "    print(hoy.month, cumple.month)\n",
        "    if hoy.month == cumple.month and hoy.day == cumple.day:\n",
        "      return True\n",
        "    else:\n",
        "      return False\n",
        "\n",
        "\n",
        "  def dias(self):\n",
        "    cumple = datetime.datetime.strptime(self.fecha, \"%Y-%m-%d\")\n",
        "    hoy = datetime.datetime.now()\n",
        "    cumple.year = hoy.year + 1\n",
        "    pez = cumple - hoy\n",
        "    return pez.days %365\n",
        "\n",
        "  def __str__(self):\n",
        "    return f\"[{self.nombre} -- {self.edad()} años -- {self.altura} m]\"\n"
      ],
      "metadata": {
        "id": "A7YWWBAOpxww"
      },
      "execution_count": 43,
      "outputs": []
    },
    {
      "cell_type": "code",
      "source": [
        "sebastian = humano(\"Sebastian\", \"1916-05-01\", 1.5)\n",
        "print(sebastian)"
      ],
      "metadata": {
        "colab": {
          "base_uri": "https://localhost:8080/"
        },
        "id": "Xt_rYvnANBhM",
        "outputId": "5ae03950-adf5-4d98-9246-4e6a82af5d7e"
      },
      "execution_count": 44,
      "outputs": [
        {
          "output_type": "stream",
          "name": "stdout",
          "text": [
            "[Sebastian -- 109 años -- 1.5 m]\n"
          ]
        }
      ]
    },
    {
      "cell_type": "code",
      "source": [
        "\n",
        "\n"
      ],
      "metadata": {
        "colab": {
          "base_uri": "https://localhost:8080/"
        },
        "id": "ifo8jtcbUIDQ",
        "outputId": "458a3906-4f3a-43bd-b596-87e2f778105f"
      },
      "execution_count": 31,
      "outputs": [
        {
          "output_type": "stream",
          "name": "stdout",
          "text": [
            "1.6\n"
          ]
        }
      ]
    },
    {
      "cell_type": "code",
      "source": [],
      "metadata": {
        "id": "ubCrlaOBYla_"
      },
      "execution_count": null,
      "outputs": []
    }
  ]
}