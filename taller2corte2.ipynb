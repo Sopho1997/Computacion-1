{
  "nbformat": 4,
  "nbformat_minor": 0,
  "metadata": {
    "colab": {
      "provenance": [],
      "authorship_tag": "ABX9TyMpbd0Wzl1jd9U2TrTnDgtu",
      "include_colab_link": true
    },
    "kernelspec": {
      "name": "python3",
      "display_name": "Python 3"
    },
    "language_info": {
      "name": "python"
    }
  },
  "cells": [
    {
      "cell_type": "markdown",
      "metadata": {
        "id": "view-in-github",
        "colab_type": "text"
      },
      "source": [
        "<a href=\"https://colab.research.google.com/github/Sopho1997/Computacion-1/blob/main/taller2corte2.ipynb\" target=\"_parent\"><img src=\"https://colab.research.google.com/assets/colab-badge.svg\" alt=\"Open In Colab\"/></a>"
      ]
    },
    {
      "cell_type": "code",
      "execution_count": 2,
      "metadata": {
        "id": "VoYsnPEmoEgA"
      },
      "outputs": [],
      "source": [
        "import random\n",
        "\n",
        "orden_palo = {\n",
        "    \"Trebol\": 0,\n",
        "    \"Diamante\": 1,\n",
        "    \"Pica\": 2,\n",
        "    \"Corazon\": 3\n",
        "}\n",
        "orden_identificador = {\n",
        "    \"A\": 1,\n",
        "    \"J\": 11,\n",
        "    \"Q\": 12,\n",
        "    \"K\": 13\n",
        "}\n",
        "\n",
        "for i in range(2, 11):\n",
        "  orden_identificador[i] = i\n",
        "\n",
        "class cartas:\n",
        "  def __init__(self, palo, identificador):\n",
        "    self.palo = palo\n",
        "    self.identificador = identificador\n",
        "\n",
        "  def __str__(self):\n",
        "    return f\"{self.identificador} de {self.palo}\"\n",
        "\n",
        "  def __eq__(self, other):\n",
        "    if self.identificador == other.identificador and self.palo == other.palo:\n",
        "      return True\n",
        "    else:\n",
        "      return False\n",
        "\n",
        "  def __repr__(self):\n",
        "    return self.__str__()\n",
        "\n",
        "  def __lt__(self, other):\n",
        "    if orden_palo[self.palo] < orden_palo[other.palo]:\n",
        "      return True\n",
        "    elif orden_palo[self.palo] > orden_palo[other.palo]:\n",
        "      return False\n",
        "    else:\n",
        "      if orden_identificador[self.identificador] < orden_identificador[other.identificador]:\n",
        "        return True\n",
        "      else:\n",
        "        return False\n",
        "\n",
        "  def __gt__(self, other):\n",
        "    if orden_palo[self.palo] > orden_palo[other.palo]:\n",
        "      return True\n",
        "    elif orden_palo[self.palo] < orden_palo[other.palo]:\n",
        "      return False\n",
        "    else:\n",
        "      if orden_identificador[self.identificador] > orden_identificador[other.identificador]:\n",
        "        return True\n",
        "      else:\n",
        "        return False\n",
        "class baraja:\n",
        "\n",
        "  def __init__(self, lista):\n",
        "    self.lista = lista\n",
        "\n",
        "  def ordenar(self):\n",
        "    self.lista.sort()\n",
        "\n",
        "  def barajar(self):\n",
        "    random.shuffle(self.lista)\n",
        "\n"
      ]
    },
    {
      "cell_type": "code",
      "source": [],
      "metadata": {
        "id": "RpOyp1Zru5ce"
      },
      "execution_count": null,
      "outputs": []
    }
  ]
}