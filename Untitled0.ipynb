{
  "nbformat": 4,
  "nbformat_minor": 0,
  "metadata": {
    "colab": {
      "provenance": [],
      "authorship_tag": "ABX9TyN+DcaVuxL1cRrjNogHn4s5",
      "include_colab_link": true
    },
    "kernelspec": {
      "name": "python3",
      "display_name": "Python 3"
    },
    "language_info": {
      "name": "python"
    }
  },
  "cells": [
    {
      "cell_type": "markdown",
      "metadata": {
        "id": "view-in-github",
        "colab_type": "text"
      },
      "source": [
        "<a href=\"https://colab.research.google.com/github/Sophojanuary09/-c/blob/main/Untitled0.ipynb\" target=\"_parent\"><img src=\"https://colab.research.google.com/assets/colab-badge.svg\" alt=\"Open In Colab\"/></a>"
      ]
    },
    {
      "cell_type": "markdown",
      "source": [
        "# Taller 1\n",
        "### Sofía Quiroga Zarate"
      ],
      "metadata": {
        "id": "fT76wRfcOCOI"
      }
    },
    {
      "cell_type": "markdown",
      "source": [
        "### Ejercicio 1."
      ],
      "metadata": {
        "id": "fImDZ3T1pvkg"
      }
    },
    {
      "cell_type": "code",
      "execution_count": 21,
      "metadata": {
        "colab": {
          "base_uri": "https://localhost:8080/"
        },
        "id": "hBc-4HbQpK3J",
        "outputId": "5af25edc-d142-463f-9f75-424bfd8130bd"
      },
      "outputs": [
        {
          "output_type": "stream",
          "name": "stdout",
          "text": [
            "Ingresa tu nombreMojarra Descuajada\n",
            "Hola, Mojarra Descuajada. \n"
          ]
        }
      ],
      "source": [
        "nombre = input(\"Ingresa tu nombre\")\n",
        "print(f\"Hola, {nombre}. \")"
      ]
    },
    {
      "cell_type": "markdown",
      "source": [
        "### Ejercicio 2:"
      ],
      "metadata": {
        "id": "C87fHyKyqJ_q"
      }
    },
    {
      "cell_type": "code",
      "source": [
        "def op(n):\n",
        "  if (n% 2) == 0:\n",
        "    print(\"Es par\")\n",
        "  else:\n",
        "    print(\"Es impar\")\n",
        "n = int(input(\"Ingrese un número: \"))\n",
        "print(op(n))"
      ],
      "metadata": {
        "colab": {
          "base_uri": "https://localhost:8080/"
        },
        "id": "ESb0o3APqNRd",
        "outputId": "543abc6e-7eac-4f3b-d8ed-cbdb1eff7880"
      },
      "execution_count": 17,
      "outputs": [
        {
          "output_type": "stream",
          "name": "stdout",
          "text": [
            "Ingrese un número: 2\n",
            "Es par\n",
            "None\n"
          ]
        }
      ]
    },
    {
      "cell_type": "markdown",
      "source": [
        "### Ejercicio 3:"
      ],
      "metadata": {
        "id": "IDxMbNHzvoCc"
      }
    },
    {
      "cell_type": "code",
      "source": [
        "texto = input(\"Ingresa una palabra: \")\n",
        "letra = [\"a\",\"e\",\"i\",\"o\",\"u\"]\n",
        "contar = 0\n",
        "for i in range (0,len(texto)):\n",
        "    caracter = texto[i].lower()\n",
        "    if caracter in letra:\n",
        "      contar = contar + 1\n",
        "print(f\"La cantidad de vocale es {contar}\")\n"
      ],
      "metadata": {
        "colab": {
          "base_uri": "https://localhost:8080/"
        },
        "id": "54HQPe36w8Y4",
        "outputId": "8f6c4474-9443-42e8-9781-632e37e48c0e"
      },
      "execution_count": 8,
      "outputs": [
        {
          "output_type": "stream",
          "name": "stdout",
          "text": [
            "Ingresa una palabra: moaiusy\n",
            "La cantidad de vocale es 4\n"
          ]
        }
      ]
    },
    {
      "cell_type": "markdown",
      "source": [
        "### Ejercicio 4:"
      ],
      "metadata": {
        "id": "LUWlg2xz3y7T"
      }
    },
    {
      "cell_type": "code",
      "source": [
        "from ast import While\n",
        "import math\n",
        "import random\n",
        "numero = random.randint(1,11)\n",
        "n = int(input(\"Adivina el número del 1 al 10. \"))\n",
        "while numero != n:\n",
        "  if numero < n:\n",
        "    print(\"El número es menor.\")\n",
        "  elif numero > n:\n",
        "    print(\"El número es mayor.\")\n",
        "  n = int(input())\n",
        "print(\"Adivinaste :D \")"
      ],
      "metadata": {
        "colab": {
          "base_uri": "https://localhost:8080/"
        },
        "id": "pvxLx86D2if3",
        "outputId": "b1617ea9-0e90-429c-fda4-96a77fadd573"
      },
      "execution_count": 3,
      "outputs": [
        {
          "output_type": "stream",
          "name": "stdout",
          "text": [
            "Adivina el número del 1 al 10. 5\n",
            "El número es mayor.\n",
            "7\n",
            "El número es mayor.\n",
            "8\n",
            "Adivinaste :D \n"
          ]
        }
      ]
    },
    {
      "cell_type": "markdown",
      "source": [],
      "metadata": {
        "id": "F1O_FFzD7mhR"
      }
    },
    {
      "cell_type": "markdown",
      "source": [
        "### Ejercicio 5:"
      ],
      "metadata": {
        "id": "uAoU2cQ_7tsX"
      }
    },
    {
      "cell_type": "code",
      "source": [
        "n = int(input(\"Ingresa un número\"))\n",
        "def op(n):\n",
        "  for i in range (1,11):\n",
        "    print(f\"{n} x {i} = {n * i}\")\n",
        "op(n)"
      ],
      "metadata": {
        "colab": {
          "base_uri": "https://localhost:8080/"
        },
        "id": "Ncr1SKi54F-x",
        "outputId": "1c0c9449-a82d-48bd-a264-546ff9ace9af"
      },
      "execution_count": 8,
      "outputs": [
        {
          "output_type": "stream",
          "name": "stdout",
          "text": [
            "Ingresa un número3\n",
            "3 x 1 = 3\n",
            "3 x 2 = 6\n",
            "3 x 3 = 9\n",
            "3 x 4 = 12\n",
            "3 x 5 = 15\n",
            "3 x 6 = 18\n",
            "3 x 7 = 21\n",
            "3 x 8 = 24\n",
            "3 x 9 = 27\n",
            "3 x 10 = 30\n"
          ]
        }
      ]
    },
    {
      "cell_type": "markdown",
      "source": [
        "### Ejercicio 6:"
      ],
      "metadata": {
        "id": "UEu_816xAjzI"
      }
    },
    {
      "cell_type": "code",
      "source": [
        "n = int(input(\"Ingresa los pisos de la piramide\"))\n",
        "for i in range (0,n):\n",
        "  q = 2*i+1\n",
        "  d = 2*(n-1)+1\n",
        "  k = (d-q)//2\n",
        "  print(k*\" \" + q*\"*\" + k*\" \")\n"
      ],
      "metadata": {
        "colab": {
          "base_uri": "https://localhost:8080/"
        },
        "id": "8GlxzUXg-fhT",
        "outputId": "a18975f5-92ca-4a80-d545-a9b197e1dd1b"
      },
      "execution_count": 20,
      "outputs": [
        {
          "output_type": "stream",
          "name": "stdout",
          "text": [
            "Ingresa los pisos de la piramide1\n",
            "*\n"
          ]
        }
      ]
    },
    {
      "cell_type": "code",
      "source": [],
      "metadata": {
        "id": "nZcNT0fREkQo"
      },
      "execution_count": null,
      "outputs": []
    }
  ]
}