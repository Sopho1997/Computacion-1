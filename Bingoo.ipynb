{
  "nbformat": 4,
  "nbformat_minor": 0,
  "metadata": {
    "colab": {
      "provenance": [],
      "authorship_tag": "ABX9TyOgcvnMAuGkJpI/xUz6/D14",
      "include_colab_link": true
    },
    "kernelspec": {
      "name": "python3",
      "display_name": "Python 3"
    },
    "language_info": {
      "name": "python"
    }
  },
  "cells": [
    {
      "cell_type": "markdown",
      "metadata": {
        "id": "view-in-github",
        "colab_type": "text"
      },
      "source": [
        "<a href=\"https://colab.research.google.com/github/Sopho1997/Computacion-1/blob/main/Bingoo.ipynb\" target=\"_parent\"><img src=\"https://colab.research.google.com/assets/colab-badge.svg\" alt=\"Open In Colab\"/></a>"
      ]
    },
    {
      "cell_type": "code",
      "execution_count": null,
      "metadata": {
        "id": "qE9x1TiHlLwI"
      },
      "outputs": [],
      "source": [
        "import random\n",
        "\n",
        "class bombo:\n",
        "    def __init__(self):\n",
        "        self.numeros = list(range(1, 76))\n",
        "\n",
        "    def generarnumero(self):\n",
        "        if not self.numeros:\n",
        "            return None\n",
        "        x = random.choice(self.numeros)\n",
        "        self.numeros.remove(x)\n",
        "        return x\n",
        "\n",
        "class carton:\n",
        "    def __init__(self):\n",
        "        columnas = {\n",
        "            'B': random.sample(range(1, 16), 5),\n",
        "            'I': random.sample(range(16, 31), 5),\n",
        "            'N': random.sample(range(31, 46), 5),\n",
        "            'G': random.sample(range(46, 61), 5),\n",
        "            'O': random.sample(range(61, 76), 5),\n",
        "        }\n",
        "        columnas['N'][2] = 'x'\n",
        "        self.carton = []\n",
        "        for letra in columnas:\n",
        "            self.carton.append(columnas[letra])\n",
        "\n",
        "    def marcarcarton(self, numero):\n",
        "        if 1 <= numero < 16 and numero in self.carton[0]:\n",
        "            self.carton[0][self.carton[0].index(numero)] = \"x\"\n",
        "        elif 16 <= numero < 31 and numero in self.carton[1]:\n",
        "            self.carton[1][self.carton[1].index(numero)] = \"x\"\n",
        "        elif 31 <= numero < 46 and numero in self.carton[2]:\n",
        "            self.carton[2][self.carton[2].index(numero)] = \"x\"\n",
        "        elif 46 <= numero < 61 and numero in self.carton[3]:\n",
        "            self.carton[3][self.carton[3].index(numero)] = \"x\"\n",
        "        elif 61 <= numero < 76 and numero in self.carton[4]:\n",
        "            self.carton[4][self.carton[4].index(numero)] = \"x\"\n",
        "\n",
        "    def ganar(self):\n",
        "        for columna in self.carton:\n",
        "            for cosa in columna:\n",
        "                if cosa != \"x\":\n",
        "                    return False\n",
        "        return True\n",
        "\n",
        "    def mostrar(self):\n",
        "        print(\" B   I   N   G   O\")\n",
        "        for fila in range(5):\n",
        "            print(\" \".join(f\"{self.carton[col][fila]:>2}\" for col in range(5)))\n",
        "\n",
        "class jugador:\n",
        "    def __init__(self, nombre):\n",
        "        self.nombre = nombre\n",
        "        self.carton = carton()\n",
        "\n",
        "class juego:\n",
        "    def __init__(self, n):\n",
        "        self.jugadores = []\n",
        "        for i in range(n):\n",
        "            nombre = input(f\"Nombre del jugador {i+1}: \")\n",
        "            self.jugadores.append(jugador(nombre))\n",
        "        self.bombo = bombo()\n",
        "\n",
        "    def jugar(self):\n",
        "        while True:\n",
        "            numero = self.bombo.generarnumero()\n",
        "            if numero is None:\n",
        "                print(\"No quedan más números.\")\n",
        "                break\n",
        "            print(f\"\\nNúmero extraído: {numero}\")\n",
        "            for jugador in self.jugadores:\n",
        "                jugador.carton.marcarcarton(numero)\n",
        "                print(f\"\\nCartón de {jugador.nombre}:\")\n",
        "                jugador.carton.mostrar()\n",
        "                if jugador.carton.ganar():\n",
        "                    print(f\"\\n¡¡{jugador.nombre} ha ganado.\")\n",
        "                    return\n",
        "\n",
        "\n",
        "jugadores = int(input(\"Número de jugadores: \"))\n",
        "partida = juego(jugadores)\n",
        "partida.jugar()\n"
      ]
    },
    {
      "cell_type": "code",
      "source": [],
      "metadata": {
        "id": "pOaV0jqS3aEJ"
      },
      "execution_count": null,
      "outputs": []
    }
  ]
}